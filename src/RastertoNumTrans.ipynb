{
 "cells": [
  {
   "cell_type": "code",
   "execution_count": 2,
   "id": "80c19274-61ab-40f5-bd1d-485016c081ec",
   "metadata": {},
   "outputs": [
    {
     "name": "stdout",
     "output_type": "stream",
     "text": [
      "Processing P5_PAN_Maharashtra_N16_000_E074_000_DEM_30m.tif...\n",
      "Processing P5_PAN_AndhraPradesh_N18_000_E083_000_DEM_30m.tif...\n",
      "Processing P5_PAN_Odisha_N21_000_E083_000_DEM_30m.tif...\n",
      "Processing P5_PAN_Odisha_N21_000_E084_000_DEM_30m.tif...\n",
      "Processing P5_PAN_Chattisgarh_N22_000_E082_000_DEM_30m.tif...\n",
      "Processing P5_PAN_Jharkhand_N23_000_E086_000_DEM_30m.tif...\n",
      "Processing P5_PAN_WestBengal_N23_000_E087_000_DEM_30m.tif...\n",
      "Processing P5_PAN_MadhyaPradesh_N24_000_E082_000_DEM_30m.tif...\n",
      "Saved sampled features to combined_mines_features.csv\n"
     ]
    }
   ],
   "source": [
    "import rasterio\n",
    "import numpy as np\n",
    "import pandas as pd\n",
    "\n",
    "dem_files = [\n",
    "    \"P5_PAN_Maharashtra_N16_000_E074_000_DEM_30m.tif\",\n",
    "    \"P5_PAN_AndhraPradesh_N18_000_E083_000_DEM_30m.tif\",\n",
    "    \"P5_PAN_Odisha_N21_000_E083_000_DEM_30m.tif\",\n",
    "    \"P5_PAN_Odisha_N21_000_E084_000_DEM_30m.tif\",\n",
    "    \"P5_PAN_Chattisgarh_N22_000_E082_000_DEM_30m.tif\",\n",
    "    \"P5_PAN_Jharkhand_N23_000_E086_000_DEM_30m.tif\",\n",
    "    \"P5_PAN_WestBengal_N23_000_E087_000_DEM_30m.tif\",\n",
    "    \"P5_PAN_MadhyaPradesh_N24_000_E082_000_DEM_30m.tif\"\n",
    "]\n",
    "\n",
    "all_data = []\n",
    "step = 10  # Sample only every 10th pixel in both directions\n",
    "\n",
    "for dem_path in dem_files:\n",
    "    print(f\"Processing {dem_path}...\")\n",
    "    with rasterio.open(dem_path) as src:\n",
    "        dem = src.read(1)\n",
    "        transform = src.transform\n",
    "        nodata = src.nodata\n",
    "        rows, cols = dem.shape\n",
    "        # Calculate slope and aspect\n",
    "        x, y = np.gradient(dem, src.res[0], src.res[1])\n",
    "        slope = np.degrees(np.arctan(np.sqrt(x**2 + y**2)))\n",
    "        aspect = np.degrees(np.arctan2(-x, y))\n",
    "        aspect = np.where(aspect < 0, 360 + aspect, aspect)\n",
    "        loc_label = dem_path.split('_')[2]  # e.g. N16, N18, etc.\n",
    "\n",
    "        # Only loop over every nth row/col for speed\n",
    "        for r in range(0, rows, step):\n",
    "            for c in range(0, cols, step):\n",
    "                if dem[r, c] != nodata:\n",
    "                    lon, lat = rasterio.transform.xy(transform, r, c)\n",
    "                    all_data.append({\n",
    "                        'location': loc_label,\n",
    "                        'longitude': lon,\n",
    "                        'latitude': lat,\n",
    "                        'elevation': dem[r, c],\n",
    "                        'slope_deg': slope[r, c],\n",
    "                        'aspect_deg': aspect[r, c]\n",
    "                    })\n",
    "\n",
    "df = pd.DataFrame(all_data)\n",
    "df.to_csv('combined_mines_features.csv', index=False)\n",
    "print(\"Saved sampled features to combined_mines_features.csv\")\n"
   ]
  },
  {
   "cell_type": "code",
   "execution_count": null,
   "id": "75cc7bf8-782f-4fb8-951b-538f299562c6",
   "metadata": {},
   "outputs": [],
   "source": []
  }
 ],
 "metadata": {
  "kernelspec": {
   "display_name": "Python 3 (ipykernel)",
   "language": "python",
   "name": "python3"
  },
  "language_info": {
   "codemirror_mode": {
    "name": "ipython",
    "version": 3
   },
   "file_extension": ".py",
   "mimetype": "text/x-python",
   "name": "python",
   "nbconvert_exporter": "python",
   "pygments_lexer": "ipython3",
   "version": "3.12.7"
  }
 },
 "nbformat": 4,
 "nbformat_minor": 5
}
