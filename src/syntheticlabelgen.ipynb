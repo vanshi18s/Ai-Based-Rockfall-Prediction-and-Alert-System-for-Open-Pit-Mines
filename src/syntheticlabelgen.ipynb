{
 "cells": [
  {
   "cell_type": "code",
   "execution_count": 3,
   "id": "f14ce535-19c6-4f82-bc36-bf82d274ae71",
   "metadata": {},
   "outputs": [
    {
     "name": "stdout",
     "output_type": "stream",
     "text": [
      "Data Analysis:\n",
      "Slope range: 87.4 to 90.0\n",
      "Elevation range: -493.0 to 1419.9\n",
      "Max rainfall range: 6.4 to 32.8\n",
      "\n",
      "Generating with adjusted thresholds...\n",
      "Results:\n",
      "High Risk (Yes): 294665 (29.0%)\n",
      "Low Risk (No): 719741 (71.0%)\n",
      "Average Probability: 0.705\n"
     ]
    }
   ],
   "source": [
    "import pandas as pd\n",
    "import numpy as np\n",
    "\n",
    "df = pd.read_csv('finalsheet.csv')\n",
    "\n",
    "# First, let's check your actual data ranges\n",
    "print(\"Data Analysis:\")\n",
    "print(f\"Slope range: {df['slope_deg'].min():.1f} to {df['slope_deg'].max():.1f}\")\n",
    "print(f\"Elevation range: {df['elevation'].min():.1f} to {df['elevation'].max():.1f}\")\n",
    "\n",
    "rainfall_cols = ['JANr', 'FEBr', 'MARr', 'APRr', 'MAYr', 'JUNr', \n",
    "                'JULr', 'AUGr', 'SEPr', 'OCTr', 'NOVr', 'DECr']\n",
    "max_rain = df[rainfall_cols].max(axis=1)\n",
    "print(f\"Max rainfall range: {max_rain.min():.1f} to {max_rain.max():.1f}\")\n",
    "\n",
    "def generate_rockfall_labels_fixed(df):\n",
    "    \"\"\"Fixed with proper thresholds based on your actual data\"\"\"\n",
    "    \n",
    "    # Get key factors\n",
    "    max_rain = df[rainfall_cols].max(axis=1)\n",
    "    slope = df['slope_deg']\n",
    "    elevation = df['elevation']\n",
    "    \n",
    "    # Adjusted thresholds based on your data ranges\n",
    "    slope_risk = np.where(slope > 88, 3,        # Very steep (top 10%)\n",
    "                 np.where(slope > 85, 2,        # Steep (top 30%)\n",
    "                 np.where(slope > 80, 1, 0)))   # Moderate\n",
    "    \n",
    "    rain_risk = np.where(max_rain > 16, 3,      # Heavy rain (top 10%)\n",
    "                np.where(max_rain > 12, 2,      # Moderate rain (top 30%)\n",
    "                np.where(max_rain > 8, 1, 0)))  # Light rain\n",
    "    \n",
    "    elev_risk = np.where(elevation > 600, 1,    # High elevation\n",
    "               np.where(elevation > 300, 0.5, 0)) # Medium elevation\n",
    "    \n",
    "    # Combined risk - need higher threshold\n",
    "    total_risk = slope_risk + rain_risk + elev_risk\n",
    "    \n",
    "    # Much higher threshold to get realistic split\n",
    "    rockfall = np.where(total_risk >= 5.5, 'Yes', 'No')  # Very high threshold\n",
    "    probability = np.clip(total_risk / 7, 0, 1)\n",
    "    \n",
    "    return rockfall, np.round(probability, 3)\n",
    "\n",
    "# Generate with fixed thresholds\n",
    "print(\"\\nGenerating with adjusted thresholds...\")\n",
    "df['rockfall'], df['rockfall_probability'] = generate_rockfall_labels_fixed(df)\n",
    "\n",
    "df.to_csv('airockfalldata.csv', index=False)\n",
    "\n",
    "print(\"Results:\")\n",
    "print(f\"High Risk (Yes): {sum(df['rockfall'] == 'Yes')} ({100*sum(df['rockfall'] == 'Yes')/len(df):.1f}%)\")\n",
    "print(f\"Low Risk (No): {sum(df['rockfall'] == 'No')} ({100*sum(df['rockfall'] == 'No')/len(df):.1f}%)\")\n",
    "print(f\"Average Probability: {df['rockfall_probability'].mean():.3f}\")\n"
   ]
  },
  {
   "cell_type": "code",
   "execution_count": null,
   "id": "3ca75b88-278e-45ea-8f12-e329471d53bf",
   "metadata": {},
   "outputs": [],
   "source": []
  }
 ],
 "metadata": {
  "kernelspec": {
   "display_name": "Python 3 (ipykernel)",
   "language": "python",
   "name": "python3"
  },
  "language_info": {
   "codemirror_mode": {
    "name": "ipython",
    "version": 3
   },
   "file_extension": ".py",
   "mimetype": "text/x-python",
   "name": "python",
   "nbconvert_exporter": "python",
   "pygments_lexer": "ipython3",
   "version": "3.12.7"
  }
 },
 "nbformat": 4,
 "nbformat_minor": 5
}
